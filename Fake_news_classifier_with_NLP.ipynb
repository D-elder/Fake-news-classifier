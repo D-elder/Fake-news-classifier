{
  "nbformat": 4,
  "nbformat_minor": 0,
  "metadata": {
    "colab": {
      "name": "Fake news classifier with NLP.ipynb",
      "provenance": [],
      "collapsed_sections": []
    },
    "kernelspec": {
      "name": "python3",
      "display_name": "Python 3"
    },
    "language_info": {
      "name": "python"
    }
  },
  "cells": [
    {
      "cell_type": "code",
      "execution_count": 25,
      "metadata": {
        "id": "0ERH-l9kZXX5"
      },
      "outputs": [],
      "source": [
        "##loading necessary libraries\n",
        "\n",
        "import nlp_utils\n",
        "import pandas as pd\n",
        "import seaborn as sns\n",
        "from sklearn.model_selection import train_test_split\n",
        "from sklearn.feature_extraction.text import CountVectorizer, TfidfTransformer, TfidfVectorizer"
      ]
    },
    {
      "cell_type": "code",
      "source": [
        "!pip install nlp_utils"
      ],
      "metadata": {
        "id": "mGhlCyXQTyy7",
        "colab": {
          "base_uri": "https://localhost:8080/"
        },
        "outputId": "12502297-f13d-4db0-c2f7-d88510fd0661"
      },
      "execution_count": 4,
      "outputs": [
        {
          "output_type": "stream",
          "name": "stdout",
          "text": [
            "Collecting nlp_utils\n",
            "  Downloading nlp_utils-0.6.2-py2.py3-none-any.whl (112 kB)\n",
            "\u001b[?25l\r\u001b[K     |███                             | 10 kB 23.9 MB/s eta 0:00:01\r\u001b[K     |█████▉                          | 20 kB 12.5 MB/s eta 0:00:01\r\u001b[K     |████████▊                       | 30 kB 9.1 MB/s eta 0:00:01\r\u001b[K     |███████████▋                    | 40 kB 3.8 MB/s eta 0:00:01\r\u001b[K     |██████████████▌                 | 51 kB 3.7 MB/s eta 0:00:01\r\u001b[K     |█████████████████▌              | 61 kB 4.4 MB/s eta 0:00:01\r\u001b[K     |████████████████████▍           | 71 kB 4.6 MB/s eta 0:00:01\r\u001b[K     |███████████████████████▎        | 81 kB 4.9 MB/s eta 0:00:01\r\u001b[K     |██████████████████████████▏     | 92 kB 5.5 MB/s eta 0:00:01\r\u001b[K     |█████████████████████████████   | 102 kB 4.4 MB/s eta 0:00:01\r\u001b[K     |████████████████████████████████| 112 kB 4.4 MB/s eta 0:00:01\r\u001b[K     |████████████████████████████████| 112 kB 4.4 MB/s \n",
            "\u001b[?25hCollecting micro-toolkit\n",
            "  Downloading micro_toolkit-0.9.0-py2.py3-none-any.whl (9.3 kB)\n",
            "Requirement already satisfied: numpy in /usr/local/lib/python3.7/dist-packages (from nlp_utils) (1.19.5)\n",
            "Requirement already satisfied: nltk in /usr/local/lib/python3.7/dist-packages (from nlp_utils) (3.2.5)\n",
            "Requirement already satisfied: six in /usr/local/lib/python3.7/dist-packages (from nltk->nlp_utils) (1.15.0)\n",
            "Installing collected packages: micro-toolkit, nlp-utils\n",
            "Successfully installed micro-toolkit-0.9.0 nlp-utils-0.6.2\n"
          ]
        }
      ]
    },
    {
      "cell_type": "code",
      "source": [
        "## Reading the data\n",
        "import csv\n",
        "df = pd.read_csv('train_1.csv', error_bad_lines=False, engine='python')"
      ],
      "metadata": {
        "colab": {
          "base_uri": "https://localhost:8080/"
        },
        "id": "sHWOG67pakky",
        "outputId": "fd2581e1-f87a-4fe5-e4db-03b903cdf647"
      },
      "execution_count": 6,
      "outputs": [
        {
          "output_type": "stream",
          "name": "stderr",
          "text": [
            "Skipping line 1314: unexpected end of data\n"
          ]
        }
      ]
    },
    {
      "cell_type": "code",
      "source": [
        "df"
      ],
      "metadata": {
        "id": "mgh87ynwaVvT",
        "colab": {
          "base_uri": "https://localhost:8080/",
          "height": 424
        },
        "outputId": "9fb274a4-faa3-491e-87ec-0488f06d17e8"
      },
      "execution_count": 7,
      "outputs": [
        {
          "output_type": "execute_result",
          "data": {
            "text/html": [
              "\n",
              "  <div id=\"df-db8e151d-de76-4c45-826e-4abaf404159f\">\n",
              "    <div class=\"colab-df-container\">\n",
              "      <div>\n",
              "<style scoped>\n",
              "    .dataframe tbody tr th:only-of-type {\n",
              "        vertical-align: middle;\n",
              "    }\n",
              "\n",
              "    .dataframe tbody tr th {\n",
              "        vertical-align: top;\n",
              "    }\n",
              "\n",
              "    .dataframe thead th {\n",
              "        text-align: right;\n",
              "    }\n",
              "</style>\n",
              "<table border=\"1\" class=\"dataframe\">\n",
              "  <thead>\n",
              "    <tr style=\"text-align: right;\">\n",
              "      <th></th>\n",
              "      <th>id</th>\n",
              "      <th>title</th>\n",
              "      <th>author</th>\n",
              "      <th>text</th>\n",
              "      <th>label</th>\n",
              "    </tr>\n",
              "  </thead>\n",
              "  <tbody>\n",
              "    <tr>\n",
              "      <th>0</th>\n",
              "      <td>0</td>\n",
              "      <td>House Dem Aide: We Didn’t Even See Comey’s Let...</td>\n",
              "      <td>Darrell Lucus</td>\n",
              "      <td>House Dem Aide: We Didn’t Even See Comey’s Let...</td>\n",
              "      <td>1.0</td>\n",
              "    </tr>\n",
              "    <tr>\n",
              "      <th>1</th>\n",
              "      <td>1</td>\n",
              "      <td>FLYNN: Hillary Clinton, Big Woman on Campus - ...</td>\n",
              "      <td>Daniel J. Flynn</td>\n",
              "      <td>Ever get the feeling your life circles the rou...</td>\n",
              "      <td>0.0</td>\n",
              "    </tr>\n",
              "    <tr>\n",
              "      <th>2</th>\n",
              "      <td>2</td>\n",
              "      <td>Why the Truth Might Get You Fired</td>\n",
              "      <td>Consortiumnews.com</td>\n",
              "      <td>Why the Truth Might Get You Fired October 29, ...</td>\n",
              "      <td>1.0</td>\n",
              "    </tr>\n",
              "    <tr>\n",
              "      <th>3</th>\n",
              "      <td>3</td>\n",
              "      <td>15 Civilians Killed In Single US Airstrike Hav...</td>\n",
              "      <td>Jessica Purkiss</td>\n",
              "      <td>Videos 15 Civilians Killed In Single US Airstr...</td>\n",
              "      <td>1.0</td>\n",
              "    </tr>\n",
              "    <tr>\n",
              "      <th>4</th>\n",
              "      <td>4</td>\n",
              "      <td>Iranian woman jailed for fictional unpublished...</td>\n",
              "      <td>Howard Portnoy</td>\n",
              "      <td>Print \\nAn Iranian woman has been sentenced to...</td>\n",
              "      <td>1.0</td>\n",
              "    </tr>\n",
              "    <tr>\n",
              "      <th>...</th>\n",
              "      <td>...</td>\n",
              "      <td>...</td>\n",
              "      <td>...</td>\n",
              "      <td>...</td>\n",
              "      <td>...</td>\n",
              "    </tr>\n",
              "    <tr>\n",
              "      <th>1307</th>\n",
              "      <td>1313</td>\n",
              "      <td>Starbucks Brand Crashes After Announcement of ...</td>\n",
              "      <td>Warner Todd Huston</td>\n",
              "      <td>The Starbucks Coffee brand has taken a major h...</td>\n",
              "      <td>0.0</td>\n",
              "    </tr>\n",
              "    <tr>\n",
              "      <th>1308</th>\n",
              "      <td>1314</td>\n",
              "      <td>New Report Blames Air Pollution For Deaths Of ...</td>\n",
              "      <td>Whitney Webb</td>\n",
              "      <td>Most recent environmental concerns regarding p...</td>\n",
              "      <td>1.0</td>\n",
              "    </tr>\n",
              "    <tr>\n",
              "      <th>1309</th>\n",
              "      <td>1315</td>\n",
              "      <td>Norm Macdonald’s Often Funny, Always Fabulist ...</td>\n",
              "      <td>John Williams</td>\n",
              "      <td>In May 2015, Norm Macdonald appeared on the   ...</td>\n",
              "      <td>0.0</td>\n",
              "    </tr>\n",
              "    <tr>\n",
              "      <th>1310</th>\n",
              "      <td>1316</td>\n",
              "      <td>Trade Deficit Falls by 10% as U.S. Factories B...</td>\n",
              "      <td>John Carney</td>\n",
              "      <td>The U. S. trade deficit shrank by nearly 10 pe...</td>\n",
              "      <td>0.0</td>\n",
              "    </tr>\n",
              "    <tr>\n",
              "      <th>1311</th>\n",
              "      <td>1317</td>\n",
              "      <td>Presidential Debate, Houston, Syria: Your Mond...</td>\n",
              "      <td>Andrea Kannapell and Sandra Stevenson</td>\n",
              "      <td>(Want to get this briefing by email? Here’s th...</td>\n",
              "      <td>0.0</td>\n",
              "    </tr>\n",
              "  </tbody>\n",
              "</table>\n",
              "<p>1312 rows × 5 columns</p>\n",
              "</div>\n",
              "      <button class=\"colab-df-convert\" onclick=\"convertToInteractive('df-db8e151d-de76-4c45-826e-4abaf404159f')\"\n",
              "              title=\"Convert this dataframe to an interactive table.\"\n",
              "              style=\"display:none;\">\n",
              "        \n",
              "  <svg xmlns=\"http://www.w3.org/2000/svg\" height=\"24px\"viewBox=\"0 0 24 24\"\n",
              "       width=\"24px\">\n",
              "    <path d=\"M0 0h24v24H0V0z\" fill=\"none\"/>\n",
              "    <path d=\"M18.56 5.44l.94 2.06.94-2.06 2.06-.94-2.06-.94-.94-2.06-.94 2.06-2.06.94zm-11 1L8.5 8.5l.94-2.06 2.06-.94-2.06-.94L8.5 2.5l-.94 2.06-2.06.94zm10 10l.94 2.06.94-2.06 2.06-.94-2.06-.94-.94-2.06-.94 2.06-2.06.94z\"/><path d=\"M17.41 7.96l-1.37-1.37c-.4-.4-.92-.59-1.43-.59-.52 0-1.04.2-1.43.59L10.3 9.45l-7.72 7.72c-.78.78-.78 2.05 0 2.83L4 21.41c.39.39.9.59 1.41.59.51 0 1.02-.2 1.41-.59l7.78-7.78 2.81-2.81c.8-.78.8-2.07 0-2.86zM5.41 20L4 18.59l7.72-7.72 1.47 1.35L5.41 20z\"/>\n",
              "  </svg>\n",
              "      </button>\n",
              "      \n",
              "  <style>\n",
              "    .colab-df-container {\n",
              "      display:flex;\n",
              "      flex-wrap:wrap;\n",
              "      gap: 12px;\n",
              "    }\n",
              "\n",
              "    .colab-df-convert {\n",
              "      background-color: #E8F0FE;\n",
              "      border: none;\n",
              "      border-radius: 50%;\n",
              "      cursor: pointer;\n",
              "      display: none;\n",
              "      fill: #1967D2;\n",
              "      height: 32px;\n",
              "      padding: 0 0 0 0;\n",
              "      width: 32px;\n",
              "    }\n",
              "\n",
              "    .colab-df-convert:hover {\n",
              "      background-color: #E2EBFA;\n",
              "      box-shadow: 0px 1px 2px rgba(60, 64, 67, 0.3), 0px 1px 3px 1px rgba(60, 64, 67, 0.15);\n",
              "      fill: #174EA6;\n",
              "    }\n",
              "\n",
              "    [theme=dark] .colab-df-convert {\n",
              "      background-color: #3B4455;\n",
              "      fill: #D2E3FC;\n",
              "    }\n",
              "\n",
              "    [theme=dark] .colab-df-convert:hover {\n",
              "      background-color: #434B5C;\n",
              "      box-shadow: 0px 1px 3px 1px rgba(0, 0, 0, 0.15);\n",
              "      filter: drop-shadow(0px 1px 2px rgba(0, 0, 0, 0.3));\n",
              "      fill: #FFFFFF;\n",
              "    }\n",
              "  </style>\n",
              "\n",
              "      <script>\n",
              "        const buttonEl =\n",
              "          document.querySelector('#df-db8e151d-de76-4c45-826e-4abaf404159f button.colab-df-convert');\n",
              "        buttonEl.style.display =\n",
              "          google.colab.kernel.accessAllowed ? 'block' : 'none';\n",
              "\n",
              "        async function convertToInteractive(key) {\n",
              "          const element = document.querySelector('#df-db8e151d-de76-4c45-826e-4abaf404159f');\n",
              "          const dataTable =\n",
              "            await google.colab.kernel.invokeFunction('convertToInteractive',\n",
              "                                                     [key], {});\n",
              "          if (!dataTable) return;\n",
              "\n",
              "          const docLinkHtml = 'Like what you see? Visit the ' +\n",
              "            '<a target=\"_blank\" href=https://colab.research.google.com/notebooks/data_table.ipynb>data table notebook</a>'\n",
              "            + ' to learn more about interactive tables.';\n",
              "          element.innerHTML = '';\n",
              "          dataTable['output_type'] = 'display_data';\n",
              "          await google.colab.output.renderOutput(dataTable, element);\n",
              "          const docLink = document.createElement('div');\n",
              "          docLink.innerHTML = docLinkHtml;\n",
              "          element.appendChild(docLink);\n",
              "        }\n",
              "      </script>\n",
              "    </div>\n",
              "  </div>\n",
              "  "
            ],
            "text/plain": [
              "        id  ... label\n",
              "0        0  ...   1.0\n",
              "1        1  ...   0.0\n",
              "2        2  ...   1.0\n",
              "3        3  ...   1.0\n",
              "4        4  ...   1.0\n",
              "...    ...  ...   ...\n",
              "1307  1313  ...   0.0\n",
              "1308  1314  ...   1.0\n",
              "1309  1315  ...   0.0\n",
              "1310  1316  ...   0.0\n",
              "1311  1317  ...   0.0\n",
              "\n",
              "[1312 rows x 5 columns]"
            ]
          },
          "metadata": {},
          "execution_count": 7
        }
      ]
    },
    {
      "cell_type": "code",
      "source": [
        ""
      ],
      "metadata": {
        "id": "OSEGlL_5jrvI"
      },
      "execution_count": null,
      "outputs": []
    },
    {
      "cell_type": "markdown",
      "source": [
        "there are 5926 rows and 5 columns as seen above"
      ],
      "metadata": {
        "id": "_4CX9guxkEwo"
      }
    },
    {
      "cell_type": "code",
      "source": [
        "## headline of the news\n",
        "df['title'].sample(5)"
      ],
      "metadata": {
        "id": "aqmKNvGjkJrK",
        "colab": {
          "base_uri": "https://localhost:8080/"
        },
        "outputId": "3603872b-acde-44f2-a47f-a4a9abab3981"
      },
      "execution_count": 8,
      "outputs": [
        {
          "output_type": "execute_result",
          "data": {
            "text/plain": [
              "142    U.N. Secretary General Complains That The ‘Mas...\n",
              "865    “Donald Trump And The Rise Of White Identity I...\n",
              "86     Trump Fans Rally Across the Nation to Support ...\n",
              "722    How Voting Machines Are Programmed In Order To...\n",
              "270    She Died And Came Back To Life With This Incre...\n",
              "Name: title, dtype: object"
            ]
          },
          "metadata": {},
          "execution_count": 8
        }
      ]
    },
    {
      "cell_type": "code",
      "source": [
        "## information regarding the headline\n",
        "df['text'].sample(6)"
      ],
      "metadata": {
        "id": "1c7g8jtnkSRs",
        "colab": {
          "base_uri": "https://localhost:8080/"
        },
        "outputId": "c7f1640e-c23d-49f8-f166-e894d1acfa6d"
      },
      "execution_count": 9,
      "outputs": [
        {
          "output_type": "execute_result",
          "data": {
            "text/plain": [
              "585     November 22, 2016 -  Deena Stryker, Katehon - ...\n",
              "892     Bundy Ranch occupiers acquitted on all counts ...\n",
              "1077    British political parties have announced they ...\n",
              "752     By VNN on November 4, 2016 Is winning the elec...\n",
              "1117    This election remains more heated than any oth...\n",
              "236     by PAUL FASSA \\nYou might think I’m joking. Bu...\n",
              "Name: text, dtype: object"
            ]
          },
          "metadata": {},
          "execution_count": 9
        }
      ]
    },
    {
      "cell_type": "code",
      "source": [
        "df['label'].value_counts()\n",
        "## dataframe contains 2970 'ones' and 2948 'zeros'"
      ],
      "metadata": {
        "id": "nkm3R4pDkmVv",
        "colab": {
          "base_uri": "https://localhost:8080/"
        },
        "outputId": "c9a2b04c-06f2-4770-b83b-a0e48605c6bd"
      },
      "execution_count": 10,
      "outputs": [
        {
          "output_type": "execute_result",
          "data": {
            "text/plain": [
              "0.0    655\n",
              "1.0    655\n",
              "Name: label, dtype: int64"
            ]
          },
          "metadata": {},
          "execution_count": 10
        }
      ]
    },
    {
      "cell_type": "code",
      "source": [
        "#getting the null values in the dataframe\n",
        "df.isnull().sum()"
      ],
      "metadata": {
        "id": "0AIwnE7UkvRu",
        "colab": {
          "base_uri": "https://localhost:8080/"
        },
        "outputId": "ea06b90d-5f85-4060-c9b1-15395b169617"
      },
      "execution_count": 11,
      "outputs": [
        {
          "output_type": "execute_result",
          "data": {
            "text/plain": [
              "id          0\n",
              "title      37\n",
              "author    135\n",
              "text        3\n",
              "label       2\n",
              "dtype: int64"
            ]
          },
          "metadata": {},
          "execution_count": 11
        }
      ]
    },
    {
      "cell_type": "code",
      "source": [
        ""
      ],
      "metadata": {
        "id": "-C8RvdDWUTvw"
      },
      "execution_count": null,
      "outputs": []
    },
    {
      "cell_type": "code",
      "source": [
        "#removing the null values\n",
        "df1=df.dropna()"
      ],
      "metadata": {
        "id": "G6WDLp2TlHD1"
      },
      "execution_count": 12,
      "outputs": []
    },
    {
      "cell_type": "code",
      "source": [
        "df1.isnull().sum()"
      ],
      "metadata": {
        "colab": {
          "base_uri": "https://localhost:8080/"
        },
        "id": "M2GPj8QyUVx_",
        "outputId": "e515b7b3-f074-4e86-c664-77b4e9e2734c"
      },
      "execution_count": 44,
      "outputs": [
        {
          "output_type": "execute_result",
          "data": {
            "text/plain": [
              "id        0\n",
              "title     0\n",
              "author    0\n",
              "text      0\n",
              "label     0\n",
              "dtype: int64"
            ]
          },
          "metadata": {},
          "execution_count": 44
        }
      ]
    },
    {
      "cell_type": "code",
      "source": [
        "df1.reset_index(inplace=True)"
      ],
      "metadata": {
        "id": "4MU-omkelNev"
      },
      "execution_count": 45,
      "outputs": []
    },
    {
      "cell_type": "code",
      "source": [
        "df1"
      ],
      "metadata": {
        "id": "FMQBeT4elzcC",
        "colab": {
          "base_uri": "https://localhost:8080/",
          "height": 424
        },
        "outputId": "d9f520b6-9ba1-4c93-de71-3d623a3bd67f"
      },
      "execution_count": 46,
      "outputs": [
        {
          "output_type": "execute_result",
          "data": {
            "text/html": [
              "\n",
              "  <div id=\"df-30552109-6ef3-4400-8c3f-24541499b62b\">\n",
              "    <div class=\"colab-df-container\">\n",
              "      <div>\n",
              "<style scoped>\n",
              "    .dataframe tbody tr th:only-of-type {\n",
              "        vertical-align: middle;\n",
              "    }\n",
              "\n",
              "    .dataframe tbody tr th {\n",
              "        vertical-align: top;\n",
              "    }\n",
              "\n",
              "    .dataframe thead th {\n",
              "        text-align: right;\n",
              "    }\n",
              "</style>\n",
              "<table border=\"1\" class=\"dataframe\">\n",
              "  <thead>\n",
              "    <tr style=\"text-align: right;\">\n",
              "      <th></th>\n",
              "      <th>index</th>\n",
              "      <th>id</th>\n",
              "      <th>title</th>\n",
              "      <th>author</th>\n",
              "      <th>text</th>\n",
              "      <th>label</th>\n",
              "    </tr>\n",
              "  </thead>\n",
              "  <tbody>\n",
              "    <tr>\n",
              "      <th>0</th>\n",
              "      <td>0</td>\n",
              "      <td>0</td>\n",
              "      <td>House Dem Aide: We Didn’t Even See Comey’s Let...</td>\n",
              "      <td>Darrell Lucus</td>\n",
              "      <td>House Dem Aide: We Didn’t Even See Comey’s Let...</td>\n",
              "      <td>1.0</td>\n",
              "    </tr>\n",
              "    <tr>\n",
              "      <th>1</th>\n",
              "      <td>1</td>\n",
              "      <td>1</td>\n",
              "      <td>FLYNN: Hillary Clinton, Big Woman on Campus - ...</td>\n",
              "      <td>Daniel J. Flynn</td>\n",
              "      <td>Ever get the feeling your life circles the rou...</td>\n",
              "      <td>0.0</td>\n",
              "    </tr>\n",
              "    <tr>\n",
              "      <th>2</th>\n",
              "      <td>2</td>\n",
              "      <td>2</td>\n",
              "      <td>Why the Truth Might Get You Fired</td>\n",
              "      <td>Consortiumnews.com</td>\n",
              "      <td>Why the Truth Might Get You Fired October 29, ...</td>\n",
              "      <td>1.0</td>\n",
              "    </tr>\n",
              "    <tr>\n",
              "      <th>3</th>\n",
              "      <td>3</td>\n",
              "      <td>3</td>\n",
              "      <td>15 Civilians Killed In Single US Airstrike Hav...</td>\n",
              "      <td>Jessica Purkiss</td>\n",
              "      <td>Videos 15 Civilians Killed In Single US Airstr...</td>\n",
              "      <td>1.0</td>\n",
              "    </tr>\n",
              "    <tr>\n",
              "      <th>4</th>\n",
              "      <td>4</td>\n",
              "      <td>4</td>\n",
              "      <td>Iranian woman jailed for fictional unpublished...</td>\n",
              "      <td>Howard Portnoy</td>\n",
              "      <td>Print \\nAn Iranian woman has been sentenced to...</td>\n",
              "      <td>1.0</td>\n",
              "    </tr>\n",
              "    <tr>\n",
              "      <th>...</th>\n",
              "      <td>...</td>\n",
              "      <td>...</td>\n",
              "      <td>...</td>\n",
              "      <td>...</td>\n",
              "      <td>...</td>\n",
              "      <td>...</td>\n",
              "    </tr>\n",
              "    <tr>\n",
              "      <th>1133</th>\n",
              "      <td>1307</td>\n",
              "      <td>1313</td>\n",
              "      <td>Starbucks Brand Crashes After Announcement of ...</td>\n",
              "      <td>Warner Todd Huston</td>\n",
              "      <td>The Starbucks Coffee brand has taken a major h...</td>\n",
              "      <td>0.0</td>\n",
              "    </tr>\n",
              "    <tr>\n",
              "      <th>1134</th>\n",
              "      <td>1308</td>\n",
              "      <td>1314</td>\n",
              "      <td>New Report Blames Air Pollution For Deaths Of ...</td>\n",
              "      <td>Whitney Webb</td>\n",
              "      <td>Most recent environmental concerns regarding p...</td>\n",
              "      <td>1.0</td>\n",
              "    </tr>\n",
              "    <tr>\n",
              "      <th>1135</th>\n",
              "      <td>1309</td>\n",
              "      <td>1315</td>\n",
              "      <td>Norm Macdonald’s Often Funny, Always Fabulist ...</td>\n",
              "      <td>John Williams</td>\n",
              "      <td>In May 2015, Norm Macdonald appeared on the   ...</td>\n",
              "      <td>0.0</td>\n",
              "    </tr>\n",
              "    <tr>\n",
              "      <th>1136</th>\n",
              "      <td>1310</td>\n",
              "      <td>1316</td>\n",
              "      <td>Trade Deficit Falls by 10% as U.S. Factories B...</td>\n",
              "      <td>John Carney</td>\n",
              "      <td>The U. S. trade deficit shrank by nearly 10 pe...</td>\n",
              "      <td>0.0</td>\n",
              "    </tr>\n",
              "    <tr>\n",
              "      <th>1137</th>\n",
              "      <td>1311</td>\n",
              "      <td>1317</td>\n",
              "      <td>Presidential Debate, Houston, Syria: Your Mond...</td>\n",
              "      <td>Andrea Kannapell and Sandra Stevenson</td>\n",
              "      <td>(Want to get this briefing by email? Here’s th...</td>\n",
              "      <td>0.0</td>\n",
              "    </tr>\n",
              "  </tbody>\n",
              "</table>\n",
              "<p>1138 rows × 6 columns</p>\n",
              "</div>\n",
              "      <button class=\"colab-df-convert\" onclick=\"convertToInteractive('df-30552109-6ef3-4400-8c3f-24541499b62b')\"\n",
              "              title=\"Convert this dataframe to an interactive table.\"\n",
              "              style=\"display:none;\">\n",
              "        \n",
              "  <svg xmlns=\"http://www.w3.org/2000/svg\" height=\"24px\"viewBox=\"0 0 24 24\"\n",
              "       width=\"24px\">\n",
              "    <path d=\"M0 0h24v24H0V0z\" fill=\"none\"/>\n",
              "    <path d=\"M18.56 5.44l.94 2.06.94-2.06 2.06-.94-2.06-.94-.94-2.06-.94 2.06-2.06.94zm-11 1L8.5 8.5l.94-2.06 2.06-.94-2.06-.94L8.5 2.5l-.94 2.06-2.06.94zm10 10l.94 2.06.94-2.06 2.06-.94-2.06-.94-.94-2.06-.94 2.06-2.06.94z\"/><path d=\"M17.41 7.96l-1.37-1.37c-.4-.4-.92-.59-1.43-.59-.52 0-1.04.2-1.43.59L10.3 9.45l-7.72 7.72c-.78.78-.78 2.05 0 2.83L4 21.41c.39.39.9.59 1.41.59.51 0 1.02-.2 1.41-.59l7.78-7.78 2.81-2.81c.8-.78.8-2.07 0-2.86zM5.41 20L4 18.59l7.72-7.72 1.47 1.35L5.41 20z\"/>\n",
              "  </svg>\n",
              "      </button>\n",
              "      \n",
              "  <style>\n",
              "    .colab-df-container {\n",
              "      display:flex;\n",
              "      flex-wrap:wrap;\n",
              "      gap: 12px;\n",
              "    }\n",
              "\n",
              "    .colab-df-convert {\n",
              "      background-color: #E8F0FE;\n",
              "      border: none;\n",
              "      border-radius: 50%;\n",
              "      cursor: pointer;\n",
              "      display: none;\n",
              "      fill: #1967D2;\n",
              "      height: 32px;\n",
              "      padding: 0 0 0 0;\n",
              "      width: 32px;\n",
              "    }\n",
              "\n",
              "    .colab-df-convert:hover {\n",
              "      background-color: #E2EBFA;\n",
              "      box-shadow: 0px 1px 2px rgba(60, 64, 67, 0.3), 0px 1px 3px 1px rgba(60, 64, 67, 0.15);\n",
              "      fill: #174EA6;\n",
              "    }\n",
              "\n",
              "    [theme=dark] .colab-df-convert {\n",
              "      background-color: #3B4455;\n",
              "      fill: #D2E3FC;\n",
              "    }\n",
              "\n",
              "    [theme=dark] .colab-df-convert:hover {\n",
              "      background-color: #434B5C;\n",
              "      box-shadow: 0px 1px 3px 1px rgba(0, 0, 0, 0.15);\n",
              "      filter: drop-shadow(0px 1px 2px rgba(0, 0, 0, 0.3));\n",
              "      fill: #FFFFFF;\n",
              "    }\n",
              "  </style>\n",
              "\n",
              "      <script>\n",
              "        const buttonEl =\n",
              "          document.querySelector('#df-30552109-6ef3-4400-8c3f-24541499b62b button.colab-df-convert');\n",
              "        buttonEl.style.display =\n",
              "          google.colab.kernel.accessAllowed ? 'block' : 'none';\n",
              "\n",
              "        async function convertToInteractive(key) {\n",
              "          const element = document.querySelector('#df-30552109-6ef3-4400-8c3f-24541499b62b');\n",
              "          const dataTable =\n",
              "            await google.colab.kernel.invokeFunction('convertToInteractive',\n",
              "                                                     [key], {});\n",
              "          if (!dataTable) return;\n",
              "\n",
              "          const docLinkHtml = 'Like what you see? Visit the ' +\n",
              "            '<a target=\"_blank\" href=https://colab.research.google.com/notebooks/data_table.ipynb>data table notebook</a>'\n",
              "            + ' to learn more about interactive tables.';\n",
              "          element.innerHTML = '';\n",
              "          dataTable['output_type'] = 'display_data';\n",
              "          await google.colab.output.renderOutput(dataTable, element);\n",
              "          const docLink = document.createElement('div');\n",
              "          docLink.innerHTML = docLinkHtml;\n",
              "          element.appendChild(docLink);\n",
              "        }\n",
              "      </script>\n",
              "    </div>\n",
              "  </div>\n",
              "  "
            ],
            "text/plain": [
              "      index    id  ...                                               text label\n",
              "0         0     0  ...  House Dem Aide: We Didn’t Even See Comey’s Let...   1.0\n",
              "1         1     1  ...  Ever get the feeling your life circles the rou...   0.0\n",
              "2         2     2  ...  Why the Truth Might Get You Fired October 29, ...   1.0\n",
              "3         3     3  ...  Videos 15 Civilians Killed In Single US Airstr...   1.0\n",
              "4         4     4  ...  Print \\nAn Iranian woman has been sentenced to...   1.0\n",
              "...     ...   ...  ...                                                ...   ...\n",
              "1133   1307  1313  ...  The Starbucks Coffee brand has taken a major h...   0.0\n",
              "1134   1308  1314  ...  Most recent environmental concerns regarding p...   1.0\n",
              "1135   1309  1315  ...  In May 2015, Norm Macdonald appeared on the   ...   0.0\n",
              "1136   1310  1316  ...  The U. S. trade deficit shrank by nearly 10 pe...   0.0\n",
              "1137   1311  1317  ...  (Want to get this briefing by email? Here’s th...   0.0\n",
              "\n",
              "[1138 rows x 6 columns]"
            ]
          },
          "metadata": {},
          "execution_count": 46
        }
      ]
    },
    {
      "cell_type": "code",
      "source": [
        "df1.info()"
      ],
      "metadata": {
        "id": "k4u4E1pgspXQ",
        "colab": {
          "base_uri": "https://localhost:8080/"
        },
        "outputId": "b0b9491d-1ddb-412a-8fc1-81edb4c30cee"
      },
      "execution_count": 47,
      "outputs": [
        {
          "output_type": "stream",
          "name": "stdout",
          "text": [
            "<class 'pandas.core.frame.DataFrame'>\n",
            "RangeIndex: 1138 entries, 0 to 1137\n",
            "Data columns (total 6 columns):\n",
            " #   Column  Non-Null Count  Dtype  \n",
            "---  ------  --------------  -----  \n",
            " 0   index   1138 non-null   int64  \n",
            " 1   id      1138 non-null   int64  \n",
            " 2   title   1138 non-null   object \n",
            " 3   author  1138 non-null   object \n",
            " 4   text    1138 non-null   object \n",
            " 5   label   1138 non-null   float64\n",
            "dtypes: float64(1), int64(2), object(3)\n",
            "memory usage: 53.5+ KB\n"
          ]
        }
      ]
    },
    {
      "cell_type": "code",
      "source": [
        "import re\n",
        "import string"
      ],
      "metadata": {
        "id": "oO2STWIKliL6"
      },
      "execution_count": 16,
      "outputs": []
    },
    {
      "cell_type": "code",
      "source": [
        "\n"
      ],
      "metadata": {
        "id": "qs0CtmSRv2zR"
      },
      "execution_count": null,
      "outputs": []
    },
    {
      "cell_type": "code",
      "source": [
        ""
      ],
      "metadata": {
        "id": "59RqFPAu7oGv"
      },
      "execution_count": null,
      "outputs": []
    },
    {
      "cell_type": "markdown",
      "source": [
        "### Text cleaning\n",
        "\n"
      ],
      "metadata": {
        "id": "pzE6ZHComEyb"
      }
    },
    {
      "cell_type": "code",
      "source": [
        "\n",
        "# remove all numbers with letters attached to them\n",
        "alphanumeric = lambda x: re.sub(r'[^a-zA-Z]', ' ', str(x))\n",
        "\n",
        "# convert all strings to lowercase \n",
        "punc_lower = lambda x: re.sub('[%s]' % re.escape(string.punctuation), ' ', x.lower())\n",
        "\n",
        "# Remove all '\\n' in the string and replace it with a space\n",
        "remove_n = lambda x: re.sub(\"\\n\", \" \", x)\n",
        "\n",
        "# Remove all non-ascii characters \n",
        "remove_non_ascii = lambda x: re.sub(r'[^\\x00-\\x7f]',r' ', x)\n",
        "\n"
      ],
      "metadata": {
        "id": "te4mW3j42JdZ"
      },
      "execution_count": 48,
      "outputs": []
    },
    {
      "cell_type": "code",
      "source": [
        "# Apply all the lambda functions wrote previously through .map on the comments column\n",
        "df1['text'] = df1['text'].map(alphanumeric).map(punc_lower).map(remove_n).map(remove_non_ascii)"
      ],
      "metadata": {
        "id": "FQz6CEoe2st5",
        "colab": {
          "base_uri": "https://localhost:8080/"
        },
        "outputId": "e3d8ec9a-62d2-41af-85e9-aecd681ce9a8"
      },
      "execution_count": 49,
      "outputs": [
        {
          "output_type": "stream",
          "name": "stderr",
          "text": [
            "/usr/local/lib/python3.7/dist-packages/ipykernel_launcher.py:2: SettingWithCopyWarning: \n",
            "A value is trying to be set on a copy of a slice from a DataFrame.\n",
            "Try using .loc[row_indexer,col_indexer] = value instead\n",
            "\n",
            "See the caveats in the documentation: https://pandas.pydata.org/pandas-docs/stable/user_guide/indexing.html#returning-a-view-versus-a-copy\n",
            "  \n"
          ]
        }
      ]
    },
    {
      "cell_type": "code",
      "source": [
        "df1['text'].iloc[1137]"
      ],
      "metadata": {
        "id": "kLdDaisJ4Vvo",
        "colab": {
          "base_uri": "https://localhost:8080/",
          "height": 140
        },
        "outputId": "991c9a77-5483-4718-a37e-bcaf627db6c1"
      },
      "execution_count": 55,
      "outputs": [
        {
          "output_type": "execute_result",
          "data": {
            "application/vnd.google.colaboratory.intrinsic+json": {
              "type": "string"
            },
            "text/plain": [
              "' want to get this briefing by email  here s the     good evening  here s the latest      donald trump and hillary clinton clashed on terrorism  jobs  race relations and  above all  basic issues of honesty and trustworthiness during their first presidential debate  if you missed it  let us help you catch up with a few highlights and our rigorous fact checks of the candidates  assertions  and watch clips from the debate above           houston suffered through a mass shooting  the authorities said that a heavily armed man wearing a uniform emblazoned with a nazi symbol opened fire at random in a residential area near a mall  he injured nine people  two of them seriously  before the police shot and killed him  officials said he was a lawyer and had experienced troubles at his firm  in washington state  a    turkish immigrant confessed to killing of five people at a shopping mall on friday  his motive remains unknown           nationally  there was good news and bad news  the good news  millions of americans have climbed out of poverty  driven partly by widespread moves to increase the minimum wage  the bad  f  b  i  figures showed homicides skyrocketing       percent from      to       the largest   rise since       but most of the country was far safer  the killing was largely limited to a few neighborhoods in cities like baltimore  chicago  st  louis  washington and milwaukee  all plagued by gun violence among young   males           syrian and allied russian forces intensively bombed   areas of the tormented northern syrian city of aleppo for the fourth day straight  ignoring accusations of war crimes and  barbarism  at the united nations  hundreds of people have been killed there since thursday  efforts to revive a   have been abandoned           how often do sports teams appear to make decisions based on their player s welfare  chris bosh  one of the n  b  a   s top players  says the blood clots that cut his last two seasons short shouldn t stop him from playing this year  but the miami heat s president  pat riley  said bosh s career with the team  is probably over    they ll have to pay him some     million over the next three seasons  but will get the chance to raise the team s spending cap           why is the fashion world obsessed with rupaul s  drag race   a platform for those hoping to be  america s next drag superstar   sure  there s affirmation and visibility for the    but there s also drama  courage and sometimes unbelievably great looks   i ve seen every episode   said the designer marc jacobs  who has also served as a judge   it makes me laugh  it makes me cry             the admitted mastermind of the bridgegate scheme testified for the first time about how he came up with the idea to create a catastrophic traffic jam in new jersey to punish a democratic mayor for refusing to endorse gov  chris christie s   bid  david wildstein  a christie ally  also testified about how many top christie operatives he told  he said his exchanges with a christie aide made it clear the mayor  needed to fully understand that life would be more difficult for him in the second christie term than it had been in the first             man wants a moment of   that the child may say his first word     is never  war   is never  death    so wrote the colombian poet maruja vieira years ago  hoping for this day  a signing ceremony brought an official end to the   war with the marxist insurgency known as the farc  the last major war in the americas           president obama welcomed hundreds of native american leaders to his annual tribal nations conference  a gathering he pioneered  protests continue in north dakota over a pipeline that native americans object to  and which his administration has partly paused  above  mr  obama was presented with a traditional blanket and hat            finally  multiple generations of   made up many of the thousands upon thousands of people who have visited the smithsonian s national museum of african american history and culture in its opening days  for some  the import resonated as a bookend of the final days of president obama s final term  and as a marker for an unfinished fight for racial equality   the timing is prophetic      you can t visit here and not think about what s going on today  and the sense of history and struggle   said a maryland pastor        your evening briefing is posted at   p  m  eastern  and don t miss your morning briefing  posted weekdays at   a  m  eastern  and your weekend briefing  posted at   a  m  sundays  want to look back  here s the weekend briefing  what did you like  what do you want to see here  let us know at briefing nytimes  com '"
            ]
          },
          "metadata": {},
          "execution_count": 55
        }
      ]
    },
    {
      "cell_type": "code",
      "source": [
        "len(df)"
      ],
      "metadata": {
        "colab": {
          "base_uri": "https://localhost:8080/"
        },
        "id": "GrkcfsXdZmDE",
        "outputId": "71c26310-2e5d-4fa7-c391-0d051a12f1ef"
      },
      "execution_count": 58,
      "outputs": [
        {
          "output_type": "execute_result",
          "data": {
            "text/plain": [
              "1312"
            ]
          },
          "metadata": {},
          "execution_count": 58
        }
      ]
    },
    {
      "cell_type": "markdown",
      "source": [
        "##Removing stop words and stemming text"
      ],
      "metadata": {
        "id": "fWcna2zRSVbh"
      }
    },
    {
      "cell_type": "code",
      "source": [
        "from nltk.corpus import stopwords\n",
        "from nltk.stem.porter import PorterStemmer\n",
        "import re\n",
        "ps = PorterStemmer()\n",
        "corpus = []\n",
        "for i in range(0, len(df1)):\n",
        "    review = re.sub('[^a-zA-Z]', ' ', df1['text'][i])\n",
        "    review = review.lower()\n",
        "    review = review.split()\n",
        "    \n",
        "    review = [ps.stem(word) for word in review if not word in stopwords.words('english')]\n",
        "    review = ' '.join(review)\n",
        "    corpus.append(review)"
      ],
      "metadata": {
        "id": "_SLqa2of415m"
      },
      "execution_count": 59,
      "outputs": []
    },
    {
      "cell_type": "code",
      "source": [
        "import nltk\n",
        "nltk.download('stopwords')"
      ],
      "metadata": {
        "id": "2oPm1Kfk5FDe",
        "colab": {
          "base_uri": "https://localhost:8080/"
        },
        "outputId": "9150a08c-0c1c-40f9-db37-d4206b3d9a34"
      },
      "execution_count": 21,
      "outputs": [
        {
          "output_type": "stream",
          "name": "stdout",
          "text": [
            "[nltk_data] Downloading package stopwords to /root/nltk_data...\n",
            "[nltk_data]   Unzipping corpora/stopwords.zip.\n"
          ]
        },
        {
          "output_type": "execute_result",
          "data": {
            "text/plain": [
              "True"
            ]
          },
          "metadata": {},
          "execution_count": 21
        }
      ]
    },
    {
      "cell_type": "markdown",
      "source": [
        "##Splitting the data frame"
      ],
      "metadata": {
        "id": "L5dR99QNVwvE"
      }
    },
    {
      "cell_type": "code",
      "source": [
        "y=df1['label']\n",
        "y.head()"
      ],
      "metadata": {
        "id": "RvAEPnc66uwI",
        "colab": {
          "base_uri": "https://localhost:8080/"
        },
        "outputId": "39f5d831-2ab0-44f8-a44b-40076f22505f"
      },
      "execution_count": 60,
      "outputs": [
        {
          "output_type": "execute_result",
          "data": {
            "text/plain": [
              "0    1.0\n",
              "1    0.0\n",
              "2    1.0\n",
              "3    1.0\n",
              "4    1.0\n",
              "Name: label, dtype: float64"
            ]
          },
          "metadata": {},
          "execution_count": 60
        }
      ]
    },
    {
      "cell_type": "markdown",
      "source": [
        "##train and test split"
      ],
      "metadata": {
        "id": "wBrzok6JWC31"
      }
    },
    {
      "cell_type": "code",
      "source": [
        "X_train, X_test, y_train, y_test = train_test_split(df1['text'], y, test_size=0.30, random_state=101)\n",
        "## We have split the data into 70 percent train and 30 percent test"
      ],
      "metadata": {
        "id": "2UEFtj4e6wSF"
      },
      "execution_count": 61,
      "outputs": []
    },
    {
      "cell_type": "markdown",
      "source": [
        "##tfidf vectorizer"
      ],
      "metadata": {
        "id": "XXsdVfk5Wa-z"
      }
    },
    {
      "cell_type": "code",
      "source": [
        "# Applying tfidf\n",
        "tfidf_vect = TfidfVectorizer(stop_words = 'english',max_df=0.7)\n",
        "tfidf_train = tfidf_vect.fit_transform(X_train)\n",
        "tfidf_test = tfidf_vect.transform(X_test)"
      ],
      "metadata": {
        "id": "t3G50FAGWf-c"
      },
      "execution_count": 63,
      "outputs": []
    },
    {
      "cell_type": "code",
      "source": [
        "print(tfidf_test)"
      ],
      "metadata": {
        "colab": {
          "base_uri": "https://localhost:8080/"
        },
        "id": "he7bUjxcPqP7",
        "outputId": "dcf01baa-fdcb-43d0-a4ea-6fdd180c6de1"
      },
      "execution_count": 64,
      "outputs": [
        {
          "output_type": "stream",
          "name": "stdout",
          "text": [
            "  (0, 32008)\t0.03130709131885381\n",
            "  (0, 31956)\t0.015247962450694014\n",
            "  (0, 31886)\t0.038680907316412036\n",
            "  (0, 31687)\t0.017675046411997793\n",
            "  (0, 31682)\t0.011560153450747547\n",
            "  (0, 31640)\t0.013381282547156384\n",
            "  (0, 31637)\t0.015054785779556582\n",
            "  (0, 31566)\t0.09131291987121379\n",
            "  (0, 31539)\t0.019380741821843826\n",
            "  (0, 31376)\t0.034754579464813425\n",
            "  (0, 31276)\t0.014390644156972705\n",
            "  (0, 31269)\t0.011242093338563892\n",
            "  (0, 31207)\t0.0204960513296133\n",
            "  (0, 31193)\t0.02128562044889194\n",
            "  (0, 31152)\t0.025258217994454327\n",
            "  (0, 31121)\t0.01926896916182486\n",
            "  (0, 31087)\t0.015933253675884208\n",
            "  (0, 31077)\t0.034754579464813425\n",
            "  (0, 31051)\t0.01693132430684079\n",
            "  (0, 31048)\t0.025842951885827106\n",
            "  (0, 31007)\t0.023826300598760022\n",
            "  (0, 30955)\t0.019380741821843826\n",
            "  (0, 30952)\t0.04940957462011208\n",
            "  (0, 30948)\t0.014308432796765264\n",
            "  (0, 30818)\t0.039961412229233544\n",
            "  :\t:\n",
            "  (341, 6971)\t0.053057200366142226\n",
            "  (341, 6910)\t0.10623544444216083\n",
            "  (341, 6770)\t0.04492794216503315\n",
            "  (341, 6312)\t0.05982747332633934\n",
            "  (341, 6084)\t0.03653894901161196\n",
            "  (341, 6062)\t0.05982747332633934\n",
            "  (341, 6023)\t0.07913308655911301\n",
            "  (341, 5710)\t0.04846546473542934\n",
            "  (341, 5139)\t0.07128346265150855\n",
            "  (341, 5135)\t0.06090682427374668\n",
            "  (341, 3643)\t0.036408027166358624\n",
            "  (341, 3009)\t0.07454135092840013\n",
            "  (341, 2800)\t0.030780413246169907\n",
            "  (341, 2613)\t0.04609046078232593\n",
            "  (341, 2451)\t0.04704804051898948\n",
            "  (341, 2156)\t0.07913308655911301\n",
            "  (341, 1973)\t0.04549429084823069\n",
            "  (341, 1743)\t0.03046799030177127\n",
            "  (341, 1056)\t0.022773500511705187\n",
            "  (341, 882)\t0.049658631851765445\n",
            "  (341, 694)\t0.06494603015340304\n",
            "  (341, 656)\t0.04139715843058966\n",
            "  (341, 367)\t0.02986787038037252\n",
            "  (341, 309)\t0.09546918185739031\n",
            "  (341, 308)\t0.056315088643033806\n"
          ]
        }
      ]
    },
    {
      "cell_type": "code",
      "source": [
        "# feature names of 'tfidf_vectorizer'\n",
        "print(tfidf_vect.get_feature_names()[-10:])"
      ],
      "metadata": {
        "colab": {
          "base_uri": "https://localhost:8080/"
        },
        "id": "6GruEajjPtYj",
        "outputId": "2a47b796-da66-43d6-a010-69af1132ff0e"
      },
      "execution_count": 65,
      "outputs": [
        {
          "output_type": "stream",
          "name": "stdout",
          "text": [
            "['zulu', 'zum', 'zur', 'zurrarse', 'zuzenak', 'zwar', 'zwei', 'zwzqj', 'zyaira', 'zyzs']\n"
          ]
        },
        {
          "output_type": "stream",
          "name": "stderr",
          "text": [
            "/usr/local/lib/python3.7/dist-packages/sklearn/utils/deprecation.py:87: FutureWarning: Function get_feature_names is deprecated; get_feature_names is deprecated in 1.0 and will be removed in 1.2. Please use get_feature_names_out instead.\n",
            "  warnings.warn(msg, category=FutureWarning)\n"
          ]
        }
      ]
    },
    {
      "cell_type": "markdown",
      "source": [
        "##Count Vectorizer"
      ],
      "metadata": {
        "id": "qeQQOJ_rQX8i"
      }
    },
    {
      "cell_type": "code",
      "source": [
        "count_vect = CountVectorizer(stop_words = 'english')\n",
        "count_train = count_vect.fit_transform(X_train.values)\n",
        "count_test = count_vect.transform(X_test.values)"
      ],
      "metadata": {
        "id": "Mm-SB8QpPt2o"
      },
      "execution_count": 66,
      "outputs": []
    },
    {
      "cell_type": "code",
      "source": [
        "print(count_test)"
      ],
      "metadata": {
        "colab": {
          "base_uri": "https://localhost:8080/"
        },
        "id": "27eEcenzQcxg",
        "outputId": "61446471-f911-4501-8ecf-217ef8a94980"
      },
      "execution_count": 67,
      "outputs": [
        {
          "output_type": "stream",
          "name": "stdout",
          "text": [
            "  (0, 69)\t1\n",
            "  (0, 81)\t5\n",
            "  (0, 91)\t1\n",
            "  (0, 169)\t1\n",
            "  (0, 306)\t1\n",
            "  (0, 309)\t2\n",
            "  (0, 310)\t1\n",
            "  (0, 322)\t1\n",
            "  (0, 325)\t1\n",
            "  (0, 342)\t1\n",
            "  (0, 376)\t1\n",
            "  (0, 422)\t1\n",
            "  (0, 486)\t1\n",
            "  (0, 517)\t1\n",
            "  (0, 569)\t1\n",
            "  (0, 571)\t1\n",
            "  (0, 613)\t6\n",
            "  (0, 625)\t1\n",
            "  (0, 767)\t1\n",
            "  (0, 904)\t2\n",
            "  (0, 1087)\t1\n",
            "  (0, 1244)\t2\n",
            "  (0, 1274)\t1\n",
            "  (0, 1421)\t1\n",
            "  (0, 1624)\t1\n",
            "  :\t:\n",
            "  (341, 24576)\t1\n",
            "  (341, 24742)\t1\n",
            "  (341, 24809)\t2\n",
            "  (341, 24905)\t4\n",
            "  (341, 25482)\t1\n",
            "  (341, 25495)\t1\n",
            "  (341, 26639)\t1\n",
            "  (341, 26729)\t2\n",
            "  (341, 26730)\t1\n",
            "  (341, 26895)\t1\n",
            "  (341, 27091)\t1\n",
            "  (341, 27184)\t1\n",
            "  (341, 27864)\t1\n",
            "  (341, 27945)\t1\n",
            "  (341, 29020)\t1\n",
            "  (341, 29546)\t2\n",
            "  (341, 29692)\t1\n",
            "  (341, 30881)\t1\n",
            "  (341, 31065)\t1\n",
            "  (341, 31091)\t1\n",
            "  (341, 31173)\t1\n",
            "  (341, 31269)\t1\n",
            "  (341, 31629)\t7\n",
            "  (341, 31715)\t1\n",
            "  (341, 31891)\t1\n"
          ]
        }
      ]
    },
    {
      "cell_type": "code",
      "source": [
        "# Feature names of 'count_vectorizer'\n",
        "print(count_vect.get_feature_names()[0:10])"
      ],
      "metadata": {
        "colab": {
          "base_uri": "https://localhost:8080/"
        },
        "id": "ABn-kjRbQfaJ",
        "outputId": "a02a9d07-f87b-466b-b503-359ab8c4baee"
      },
      "execution_count": 68,
      "outputs": [
        {
          "output_type": "stream",
          "name": "stdout",
          "text": [
            "['aa', 'aardvark', 'aaron', 'aaronkleinshow', 'aarp', 'ab', 'aback', 'abacus', 'abadi', 'abandon']\n"
          ]
        },
        {
          "output_type": "stream",
          "name": "stderr",
          "text": [
            "/usr/local/lib/python3.7/dist-packages/sklearn/utils/deprecation.py:87: FutureWarning: Function get_feature_names is deprecated; get_feature_names is deprecated in 1.0 and will be removed in 1.2. Please use get_feature_names_out instead.\n",
            "  warnings.warn(msg, category=FutureWarning)\n"
          ]
        }
      ]
    },
    {
      "cell_type": "code",
      "source": [
        ""
      ],
      "metadata": {
        "id": "04YxYqmYQxyv"
      },
      "execution_count": 31,
      "outputs": []
    },
    {
      "cell_type": "markdown",
      "source": [
        "##Naive bayes model"
      ],
      "metadata": {
        "id": "tbC6U5jAQ1Vf"
      }
    },
    {
      "cell_type": "markdown",
      "source": [
        "#TF-idf vectorized"
      ],
      "metadata": {
        "id": "1lwAQS06RE3W"
      }
    },
    {
      "cell_type": "code",
      "source": [
        "from sklearn.naive_bayes import MultinomialNB\n",
        "from sklearn import metrics\n",
        "from sklearn.metrics import accuracy_score"
      ],
      "metadata": {
        "id": "2dn_HSwrQuV4"
      },
      "execution_count": 36,
      "outputs": []
    },
    {
      "cell_type": "code",
      "source": [
        "#Applying Naive Bayes\n",
        "clf = MultinomialNB() \n",
        "clf.fit(tfidf_train, y_train)                       \n",
        "pred = clf.predict(tfidf_test)                     \n",
        "score = metrics.accuracy_score(y_test, pred)\n",
        "print(\"accuracy:   %0.3f\" % score)\n",
        "cm = metrics.confusion_matrix(y_test, pred)\n",
        "print(cm)"
      ],
      "metadata": {
        "colab": {
          "base_uri": "https://localhost:8080/"
        },
        "id": "8isMf0-1RNEV",
        "outputId": "37c9e33b-13b0-4873-e1b9-a64790b5b3b5"
      },
      "execution_count": 69,
      "outputs": [
        {
          "output_type": "stream",
          "name": "stdout",
          "text": [
            "accuracy:   0.728\n",
            "[[211   1]\n",
            " [ 92  38]]\n"
          ]
        }
      ]
    },
    {
      "cell_type": "code",
      "source": [
        "print('Wrong predictions out of total')\n",
        "print((y_test !=pred).sum(),'/',((y_test == pred).sum()+(y_test != pred).sum()))\n",
        "print('Percentage accuracy: ',100*accuracy_score(y_test,pred))"
      ],
      "metadata": {
        "colab": {
          "base_uri": "https://localhost:8080/"
        },
        "id": "i4wpovxySAqd",
        "outputId": "453c4cfc-ca7a-4b25-ce8e-b7232dc597a8"
      },
      "execution_count": 72,
      "outputs": [
        {
          "output_type": "stream",
          "name": "stdout",
          "text": [
            "Wrong predictions out of total\n",
            "93 / 342\n",
            "Percentage accuracy:  72.80701754385966\n"
          ]
        }
      ]
    },
    {
      "cell_type": "code",
      "source": [
        "## Plotting confusion matrix for TF-Idf vectorizer\n",
        "sns.heatmap(cm, cmap=\"plasma\", annot=True)"
      ],
      "metadata": {
        "colab": {
          "base_uri": "https://localhost:8080/",
          "height": 282
        },
        "id": "aIq2yWtnSE5z",
        "outputId": "ed05eaed-2fb7-4058-debc-98af97237d93"
      },
      "execution_count": 73,
      "outputs": [
        {
          "output_type": "execute_result",
          "data": {
            "text/plain": [
              "<matplotlib.axes._subplots.AxesSubplot at 0x7f27cd71b4d0>"
            ]
          },
          "metadata": {},
          "execution_count": 73
        },
        {
          "output_type": "display_data",
          "data": {
            "image/png": "[encoded data removed]",
            "text/plain": [
              "<Figure size 432x288 with 2 Axes>"
            ]
          },
          "metadata": {
            "needs_background": "light"
          }
        }
      ]
    },
    {
      "cell_type": "markdown",
      "source": [
        "#count vectorized\n"
      ],
      "metadata": {
        "id": "P5dFcq73SJVx"
      }
    },
    {
      "cell_type": "code",
      "source": [
        "#Applying Naive Bayes\n",
        "clf = MultinomialNB() \n",
        "clf.fit(count_train, y_train)                       \n",
        "pred1 = clf.predict(count_test)                    \n",
        "score = metrics.accuracy_score(y_test, pred1)\n",
        "print(\"accuracy:   %0.3f\" % score)\n",
        "cm2 = metrics.confusion_matrix(y_test, pred1)\n",
        "print(cm2)"
      ],
      "metadata": {
        "colab": {
          "base_uri": "https://localhost:8080/"
        },
        "id": "TpSl_tDlSQDl",
        "outputId": "34bbe080-1874-44a5-cbaf-d8712757699b"
      },
      "execution_count": 74,
      "outputs": [
        {
          "output_type": "stream",
          "name": "stdout",
          "text": [
            "accuracy:   0.865\n",
            "[[199  13]\n",
            " [ 33  97]]\n"
          ]
        }
      ]
    },
    {
      "cell_type": "code",
      "source": [
        "print('Wrong predictions out of total')\n",
        "print((y_test !=pred1).sum(),'/',((y_test == pred1).sum()+(y_test != pred1).sum()))\n",
        "print('Percentage accuracy: ',100*accuracy_score(y_test,pred1))"
      ],
      "metadata": {
        "colab": {
          "base_uri": "https://localhost:8080/"
        },
        "id": "oRsL8Qe0SXPL",
        "outputId": "bef50909-bc4c-4e42-fcf6-80b6a7e0a3d9"
      },
      "execution_count": 77,
      "outputs": [
        {
          "output_type": "stream",
          "name": "stdout",
          "text": [
            "Wrong predictions out of total\n",
            "46 / 342\n",
            "Percentage accuracy:  86.54970760233918\n"
          ]
        }
      ]
    },
    {
      "cell_type": "code",
      "source": [
        "## Plotting confusion matrix for Count vectorizer.\n",
        "sns.heatmap(cm2, cmap=\"plasma\", annot=True)"
      ],
      "metadata": {
        "colab": {
          "base_uri": "https://localhost:8080/",
          "height": 282
        },
        "id": "Qr-hXkxYSZw7",
        "outputId": "771d721b-b1a9-49e5-8e05-85801c4390c1"
      },
      "execution_count": 78,
      "outputs": [
        {
          "output_type": "execute_result",
          "data": {
            "text/plain": [
              "<matplotlib.axes._subplots.AxesSubplot at 0x7f27cd8c2150>"
            ]
          },
          "metadata": {},
          "execution_count": 78
        },
        {
          "output_type": "display_data",
          "data": {
            "image/png": "[encoded data removed]",
            "text/plain": [
              "<Figure size 432x288 with 2 Axes>"
            ]
          },
          "metadata": {
            "needs_background": "light"
          }
        }
      ]
    },
    {
      "cell_type": "markdown",
      "source": [
        "##Random forest model"
      ],
      "metadata": {
        "id": "LbJbwsUQSd0z"
      }
    },
    {
      "cell_type": "code",
      "source": [
        "from sklearn.ensemble import RandomForestClassifier"
      ],
      "metadata": {
        "id": "dE3Ns1WLSipK"
      },
      "execution_count": 40,
      "outputs": []
    },
    {
      "cell_type": "markdown",
      "source": [
        "#TF-Idf Vectorized"
      ],
      "metadata": {
        "id": "6QRRgBBJSmkw"
      }
    },
    {
      "cell_type": "code",
      "source": [
        "RF=RandomForestClassifier().fit(tfidf_train,y_train)\n",
        "#predict on train \n",
        "train_preds2 = RF.predict(tfidf_train)\n",
        "#accuracy on train\n",
        "print(\"Model accuracy on train is: \", accuracy_score(y_train, train_preds2))\n",
        "\n",
        "#predict on test\n",
        "test_preds2 = RF.predict(tfidf_test)\n",
        "#accuracy on test\n",
        "print(\"Model accuracy on test is: \", accuracy_score(y_test, test_preds2))\n",
        "print('-'*50)\n",
        "\n",
        "\n",
        "\n",
        "#Confusion matrix\n",
        "print(\"confusion_matrix train is: \", metrics.confusion_matrix(y_train, train_preds2))\n",
        "print(\"confusion_matrix test is: \", metrics.confusion_matrix(y_test, test_preds2))\n",
        "print('Wrong predictions out of total')\n",
        "print('-'*50)\n",
        "\n",
        "# Wrong Predictions made.\n",
        "print((y_test !=test_preds2).sum(),'/',((y_test == test_preds2).sum()+(y_test != test_preds2).sum()))\n",
        "print('-'*50)"
      ],
      "metadata": {
        "colab": {
          "base_uri": "https://localhost:8080/"
        },
        "id": "zZ9XuNJoSlPq",
        "outputId": "1e2082d5-f086-4e28-93ab-c8ebcee41000"
      },
      "execution_count": 81,
      "outputs": [
        {
          "output_type": "stream",
          "name": "stdout",
          "text": [
            "Model accuracy on train is:  1.0\n",
            "Model accuracy on test is:  0.8713450292397661\n",
            "--------------------------------------------------\n",
            "confusion_matrix train is:  [[441   0]\n",
            " [  0 355]]\n",
            "confusion_matrix test is:  [[205   7]\n",
            " [ 37  93]]\n",
            "Wrong predictions out of total\n",
            "--------------------------------------------------\n",
            "44 / 342\n",
            "--------------------------------------------------\n"
          ]
        }
      ]
    },
    {
      "cell_type": "code",
      "source": [
        ""
      ],
      "metadata": {
        "id": "9ieax2w6S6mF"
      },
      "execution_count": null,
      "outputs": []
    },
    {
      "cell_type": "markdown",
      "source": [
        "#count vectorized"
      ],
      "metadata": {
        "id": "29OPrDMyS741"
      }
    },
    {
      "cell_type": "code",
      "source": [
        "RF=RandomForestClassifier().fit(count_train,y_train)\n",
        "#predict on train \n",
        "train_preds3 = RF.predict(count_train)\n",
        "#accuracy on train\n",
        "print(\"Model accuracy on train is: \", accuracy_score(y_train, train_preds3))\n",
        "\n",
        "#predict on test\n",
        "test_preds3 = RF.predict(count_test)\n",
        "#accuracy on test\n",
        "print(\"Model accuracy on test is: \", accuracy_score(y_test, test_preds3))\n",
        "print('-'*50)\n",
        "\n",
        "\n",
        "\n",
        "#Confusion matrix\n",
        "print(\"confusion_matrix train is: \", metrics.confusion_matrix(y_train, train_preds3))\n",
        "print(\"confusion_matrix test is: \", metrics.confusion_matrix(y_test, test_preds3))\n",
        "print('Wrong predictions out of total')\n",
        "print('-'*50)\n",
        "\n",
        "# Wrong Predictions made.\n",
        "print((y_test !=test_preds3).sum(),'/',((y_test == test_preds3).sum()+(y_test != test_preds3).sum()))\n",
        "print('-'*50)"
      ],
      "metadata": {
        "colab": {
          "base_uri": "https://localhost:8080/"
        },
        "id": "sdaQvHFoS4S-",
        "outputId": "1cf6ccad-c0bd-4270-d3f9-91f6b20a8015"
      },
      "execution_count": 82,
      "outputs": [
        {
          "output_type": "stream",
          "name": "stdout",
          "text": [
            "Model accuracy on train is:  1.0\n",
            "Model accuracy on test is:  0.8771929824561403\n",
            "--------------------------------------------------\n",
            "confusion_matrix train is:  [[441   0]\n",
            " [  0 355]]\n",
            "confusion_matrix test is:  [[204   8]\n",
            " [ 34  96]]\n",
            "Wrong predictions out of total\n",
            "--------------------------------------------------\n",
            "42 / 342\n",
            "--------------------------------------------------\n"
          ]
        }
      ]
    },
    {
      "cell_type": "code",
      "source": [
        ""
      ],
      "metadata": {
        "id": "NXp_fyTeTDDi"
      },
      "execution_count": null,
      "outputs": []
    },
    {
      "cell_type": "markdown",
      "source": [
        "##KNN"
      ],
      "metadata": {
        "id": "4Iglt6F6TEa5"
      }
    },
    {
      "cell_type": "code",
      "source": [
        "from sklearn.neighbors import KNeighborsClassifier"
      ],
      "metadata": {
        "id": "fJnLakjBTGSS"
      },
      "execution_count": 42,
      "outputs": []
    },
    {
      "cell_type": "code",
      "source": [
        "#fit the model on train data \n",
        "KNN = KNeighborsClassifier().fit(tfidf_train,y_train)\n",
        "#predict on train \n",
        "train_preds4 = KNN.predict(tfidf_train)\n",
        "#accuracy on train\n",
        "print(\"Model accuracy on train is: \", accuracy_score(y_train, train_preds4))\n",
        "\n",
        "#predict on test\n",
        "test_preds4 = KNN.predict(tfidf_test)\n",
        "#accuracy on test\n",
        "print(\"Model accuracy on test is: \", accuracy_score(y_test, test_preds4))\n",
        "print('-'*50)"
      ],
      "metadata": {
        "colab": {
          "base_uri": "https://localhost:8080/"
        },
        "id": "7B5cssOQTSqZ",
        "outputId": "021149ed-5d3f-4eb7-cff8-8450a28517fc"
      },
      "execution_count": 84,
      "outputs": [
        {
          "output_type": "stream",
          "name": "stdout",
          "text": [
            "Model accuracy on train is:  0.4547738693467337\n",
            "Model accuracy on test is:  0.3830409356725146\n",
            "--------------------------------------------------\n"
          ]
        }
      ]
    },
    {
      "cell_type": "code",
      "source": [
        "#Confusion matrix\n",
        "print(\"confusion_matrix train is: \", metrics.confusion_matrix(y_train, train_preds4))\n",
        "print(\"confusion_matrix test is: \", metrics.confusion_matrix(y_test, test_preds4))\n",
        "print('Wrong predictions out of total')\n",
        "print('-'*50)\n",
        "\n",
        "# Wrong Predictions made.\n",
        "print((y_test !=test_preds4).sum(),'/',((y_test == test_preds4).sum()+(y_test != test_preds4).sum()))\n",
        "\n",
        "print('-'*50)"
      ],
      "metadata": {
        "colab": {
          "base_uri": "https://localhost:8080/"
        },
        "id": "rdKt6RvkTY0h",
        "outputId": "12c26b0c-f0db-44b8-9116-9abb22368725"
      },
      "execution_count": 85,
      "outputs": [
        {
          "output_type": "stream",
          "name": "stdout",
          "text": [
            "confusion_matrix train is:  [[  7 434]\n",
            " [  0 355]]\n",
            "confusion_matrix test is:  [[  1 211]\n",
            " [  0 130]]\n",
            "Wrong predictions out of total\n",
            "--------------------------------------------------\n",
            "211 / 342\n",
            "--------------------------------------------------\n"
          ]
        }
      ]
    },
    {
      "cell_type": "code",
      "source": [
        "#fit the model on train data \n",
        "KNN = KNeighborsClassifier().fit(count_train,y_train)\n",
        "#predict on train \n",
        "train_preds5 = KNN.predict(count_train)\n",
        "#accuracy on train\n",
        "print(\"Model accuracy on train is: \", accuracy_score(y_train, train_preds5))\n",
        "\n",
        "#predict on test\n",
        "test_preds5 = KNN.predict(count_test)\n",
        "#accuracy on test\n",
        "print(\"Model accuracy on test is: \", accuracy_score(y_test, test_preds5))\n",
        "print('-'*50)"
      ],
      "metadata": {
        "colab": {
          "base_uri": "https://localhost:8080/"
        },
        "id": "kG3RqDfFTdJw",
        "outputId": "cd8b7f39-2ba0-4090-9f88-dfc415dcdef4"
      },
      "execution_count": 86,
      "outputs": [
        {
          "output_type": "stream",
          "name": "stdout",
          "text": [
            "Model accuracy on train is:  0.6507537688442211\n",
            "Model accuracy on test is:  0.6023391812865497\n",
            "--------------------------------------------------\n"
          ]
        }
      ]
    },
    {
      "cell_type": "code",
      "source": [
        "#Confusion matrix\n",
        "print(\"confusion_matrix train is: \", metrics.confusion_matrix(y_train, train_preds5))\n",
        "print(\"confusion_matrix test is: \", metrics.confusion_matrix(y_test, test_preds5))\n",
        "print('Wrong predictions out of total')\n",
        "print('-'*50)\n",
        "\n",
        "# Wrong Predictions made.\n",
        "print((y_test !=test_preds5).sum(),'/',((y_test == test_preds5).sum()+(y_test != test_preds5).sum()))\n",
        "\n",
        "print('-'*50)"
      ],
      "metadata": {
        "colab": {
          "base_uri": "https://localhost:8080/"
        },
        "id": "nbW2CEN1Tg0h",
        "outputId": "7d32c258-db9b-4d79-f380-7b537d6434e7"
      },
      "execution_count": 88,
      "outputs": [
        {
          "output_type": "stream",
          "name": "stdout",
          "text": [
            "confusion_matrix train is:  [[179 262]\n",
            " [ 16 339]]\n",
            "confusion_matrix test is:  [[ 85 127]\n",
            " [  9 121]]\n",
            "Wrong predictions out of total\n",
            "--------------------------------------------------\n",
            "136 / 342\n",
            "--------------------------------------------------\n"
          ]
        }
      ]
    }
  ]
}